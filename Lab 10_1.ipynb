import tensorflow as tf
import numpy as np
from tensorflow import keras

def f(x):
  return x*x + 2*x

def metodaTrapezow(a, b, n):
    dx = (b - a) / n
    s = 0
    for i in range(1, n):
      s += f(a + i * dx)
    s = (s + (f(a) + f(b)) / 2) * dx
    return s

def metodaProstokatow(a, b, n):
    dx = (b - a) / n
    s = 0
    for i in range(1, n):
      s += f(a + i * dx)
    s *= dx
    return s

def metodaSimpsona(a, b, n):
  s = 0
  st = 0
  dx = (b - a) /n
  for i in range(1, n):
    x = a + i * dx
    st += f(x - dx / 2)
    if(i < n):
      s += f(x)
  s = dx / 6 * (f(a) + f(b) + 2 * s + 4 * st)
  return s

print('Metoda trapezów ', metodaTrapezow(0.0, 1.0, 1000))
print('Metoda prostokątów ', metodaProstokatow(0.0, 1.0, 1000))
print('Metoda Simpsona ', metodaSimpsona(0.0, 1.0, 1000))
